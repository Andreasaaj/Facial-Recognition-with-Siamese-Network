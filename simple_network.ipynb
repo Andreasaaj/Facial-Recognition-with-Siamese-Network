{
 "cells": [
  {
   "cell_type": "code",
   "execution_count": 94,
   "metadata": {
    "ExecuteTime": {
     "end_time": "2023-11-23T17:03:07.020627900Z",
     "start_time": "2023-11-23T17:03:06.972776400Z"
    }
   },
   "outputs": [],
   "source": [
    "import math\n",
    "from typing import Mapping\n",
    "\n",
    "import numpy as np\n",
    "import torch\n",
    "from torch.utils import data\n",
    "import torch.nn as nn\n",
    "import torch.nn.functional as F\n",
    "import torch.optim as optim\n",
    "from torchvision import models\n",
    "from torchvision.datasets import CelebA\n",
    "from torchvision import transforms\n",
    "import matplotlib.pyplot as plt"
   ]
  },
  {
   "cell_type": "markdown",
   "metadata": {
    "collapsed": false
   },
   "source": [
    "# SETUP"
   ]
  },
  {
   "cell_type": "markdown",
   "metadata": {
    "collapsed": false
   },
   "source": [
    "### Plotting"
   ]
  },
  {
   "cell_type": "code",
   "execution_count": 95,
   "metadata": {
    "ExecuteTime": {
     "end_time": "2023-11-23T17:05:42.507832300Z",
     "start_time": "2023-11-23T17:05:42.497748600Z"
    },
    "collapsed": false
   },
   "outputs": [],
   "source": [
    "def show_with_attr(attr, has_attr, columns=5):\n",
    "    train_idx = np.where(datasets[train_label].attr[:, attr] == has_attr)[0]\n",
    "    valid_idx = np.where(datasets[valid_label].attr[:, attr] == has_attr)[0]\n",
    "    attr_name = datasets[train_label].attr_names[attr]\n",
    "    print(f\"{attr_name}: {train_idx.shape[0]}, {valid_idx.shape[0]}\")\n",
    "    fig, ax = plt.subplots(1, columns, figsize=(20, 10))\n",
    "    for i in range(columns):\n",
    "        rnd = np.random.randint(0, train_idx.shape[0] - columns)\n",
    "        rnd_idx = train_idx[rnd + i]\n",
    "        ax[i].imshow(datasets[train_label][rnd_idx][0].permute(1, 2, 0))\n",
    "        ax[i].set_title(f\"{attr_name}: {rnd_idx}\")\n",
    "        ax[i].axis(\"off\")\n",
    "\n",
    "\n",
    "def show_identity_images(id, columns=5):\n",
    "    valid_set = datasets[valid_label]\n",
    "    idxs = np.where(valid_set.identity == id)[0]\n",
    "    if len(idxs) == 0:\n",
    "        print(\"No images with that identity\")\n",
    "        return\n",
    "    rows = math.ceil(len(idxs) / columns)\n",
    "    fig, ax = plt.subplots(rows, columns, figsize=(10, 10))\n",
    "    for i in range(columns * rows):\n",
    "        if i < len(idxs):\n",
    "            ax[i // columns, i % columns].imshow(valid_set[idxs[i]][0].permute(1, 2, 0))\n",
    "            ax[i // columns, i % columns].set_title(f\"Index: {idxs[i]}\")\n",
    "        ax[i // columns, i % columns].axis('off')\n",
    "\n",
    "    plt.tight_layout()\n",
    "    plt.show()\n",
    "\n",
    "\n",
    "def plot_triplets(img_label_pairs):\n",
    "    fig, ax = plt.subplots(len(img_label_pairs), 3, figsize=(10, 10))\n",
    "    if len(img_label_pairs) == 1:\n",
    "        ax = np.array([ax])\n",
    "    titles = [\"Anchor\", \"Positive\", \"Negative\"]\n",
    "    for i, (img, labels) in enumerate(img_label_pairs):\n",
    "        for j in range(3):\n",
    "            ax[i, j].imshow(img[j].permute(1, 2, 0))\n",
    "            if labels:\n",
    "                ax[i, j].set_title(f\"{titles[j]}\\nIdentity: {labels[j]}\")\n",
    "            ax[i, j].axis('off')\n",
    "\n",
    "    # plt.subplots_adjust(hspace=1, wspace=-0.5)\n",
    "    plt.tight_layout()\n",
    "    plt.show()\n",
    "\n",
    "\n",
    "def visualize_results(train_loss_history, val_loss_history, val_acc_history, batches_for_summary):\n",
    "    assert len(train_loss_history) == len(val_loss_history) == len(val_acc_history) == len(\n",
    "        batches_for_summary), \"Unequal history lengths\"\n",
    "    x_axis = []\n",
    "    cur_sum = 0\n",
    "    for i in range(len(batches_for_summary)):\n",
    "        cur_sum += batches_for_summary[i]\n",
    "        x_axis.append(cur_sum)\n",
    "\n",
    "    fig, ax = plt.subplots(1, 2, figsize=(10, 5))\n",
    "    ax[0].plot(x_axis, train_loss_history, label=\"Train Loss\")\n",
    "    ax[0].plot(x_axis, val_loss_history, label=\"Val Loss\")\n",
    "    ax[0].set_title(\"Loss\")\n",
    "    ax[0].set_xlabel(\"Batches\")\n",
    "    ax[0].legend()\n",
    "    ax[1].plot(x_axis, val_acc_history)\n",
    "    ax[1].set_title(\"Accuracy\")\n",
    "    ax[1].set_xlabel(\"Batches\")\n",
    "    plt.show()\n",
    "\n",
    "\n",
    "def show_predictions(triplet_net, triplet_data_loader, num_correct=2, num_incorrect=2):\n",
    "    correct_imgs = []\n",
    "    incorrect_imgs = []\n",
    "    cur_correct = 0\n",
    "    cur_incorrect = 0\n",
    "    triplet_net.eval()\n",
    "    with torch.no_grad():\n",
    "        for i, triplet_batch in enumerate(triplet_data_loader):\n",
    "            anchor, positive, negative = triplet_batch[0]\n",
    "            anchors, positives, negatives = triplet_net(anchor.cuda(), positive.cuda(), negative.cuda())\n",
    "            anchors, positives, negatives = anchors.cpu(), positives.cpu(), negatives.cpu()\n",
    "            for j in range(len(anchors)):\n",
    "                anchor_pos_dist = np.linalg.norm(anchors[j] - positives[j])\n",
    "                anchor_neg_dist = np.linalg.norm(anchors[j] - negatives[j])\n",
    "                if anchor_pos_dist < anchor_neg_dist:\n",
    "                    if cur_correct < num_correct:\n",
    "                        correct_imgs.append(((anchor[j], positive[j], negative[j]),\n",
    "                                             [triplet_batch[1][0][j], triplet_batch[1][1][j], triplet_batch[1][2][j]]))\n",
    "                        cur_correct += 1\n",
    "                else:\n",
    "                    if cur_incorrect < num_incorrect:\n",
    "                        incorrect_imgs.append(((anchor[j], positive[j], negative[j]),\n",
    "                                               [triplet_batch[1][0][j], triplet_batch[1][1][j],\n",
    "                                                triplet_batch[1][2][j]]))\n",
    "                        cur_incorrect += 1\n",
    "                if cur_correct == num_correct and cur_incorrect == num_incorrect:\n",
    "                    break\n",
    "            if cur_correct == num_correct and cur_incorrect == num_incorrect:\n",
    "                break\n",
    "        print(\"Correct predictions:\")\n",
    "        plot_triplets(correct_imgs)\n",
    "        print(\"Incorrect predictions:\")\n",
    "        plot_triplets(incorrect_imgs)\n",
    "\n",
    "\n",
    "def merge_trainstats_histories(old_history, add_to_history):\n",
    "    for s in range(len(old_history)):\n",
    "        old_history[s].extend(add_to_history[s])\n",
    "    return old_history\n",
    "\n",
    "\n",
    "def add_valstats_history(history, loss, acc):\n",
    "    if len(history[0]) > 0:\n",
    "        history[1][-1] = loss\n",
    "        history[2][-1] = acc\n",
    "    else:\n",
    "        history[0], history[1], history[2], history[3] = [None], [loss], [acc], [0]"
   ]
  },
  {
   "cell_type": "markdown",
   "metadata": {
    "collapsed": false
   },
   "source": [
    "### Triplet Sampler and Dataset"
   ]
  },
  {
   "cell_type": "code",
   "execution_count": 96,
   "metadata": {
    "ExecuteTime": {
     "end_time": "2023-11-23T17:03:07.106628600Z",
     "start_time": "2023-11-23T17:03:06.994332Z"
    },
    "collapsed": false
   },
   "outputs": [],
   "source": [
    "# A triplet batch is (Labels, Images) x (Anchor, Positive, Negative) x Batch Size x Channels x Height x Width\n",
    "# = 2 x 3 x 16 x 3 x 218 x 178\n",
    "\n",
    "# Custom sampler class that generates batches with of triplets of images\n",
    "class TripletSampler(data.sampler.Sampler):\n",
    "    def __init__(self, cleaned_identities: np.ndarray):\n",
    "        super().__init__()\n",
    "        self.cleaned_identities = cleaned_identities  # Same size as original dataset. Invalid entries have identity '0'.\n",
    "        self.identity_array = self.create_identity_array(cleaned_identities)\n",
    "\n",
    "    def __getitem__(self, anchor_idx: int) -> tuple[int, int, int] | None:\n",
    "        # Get a random anchor image and its identity\n",
    "        anchor_identity = self.cleaned_identities[anchor_idx]\n",
    "        if anchor_identity == 0: return None  # Found invalid entry. Skip this triplet. \n",
    "        # Get all indexes with the same identity\n",
    "        anchor_image_indices = self.identity_array[anchor_identity]\n",
    "        # remove the anchor image from the list\n",
    "        positive_identity_indices = anchor_image_indices[anchor_image_indices != anchor_idx]\n",
    "        if len(positive_identity_indices) == 0: return None  # Anchor identity only had 1 image. Skip this triplet. \n",
    "        # Get a random positive image\n",
    "        positive_idx = positive_identity_indices[np.random.randint(len(positive_identity_indices))]\n",
    "        # Choose random image as negative and confirm that it differs from anchor \n",
    "        negative_idx = np.random.randint(len(self.cleaned_identities))\n",
    "        while self.cleaned_identities[negative_idx] == anchor_identity  or self.cleaned_identities[negative_idx] == 0:\n",
    "            negative_idx = np.random.randint(len(self.cleaned_identities))  # Try again\n",
    "\n",
    "        return anchor_idx, positive_idx, negative_idx\n",
    "\n",
    "    def __iter__(self):\n",
    "        for i in range(len(self.cleaned_identities)):\n",
    "            next_triple = self[i]\n",
    "            if next_triple is None: continue\n",
    "            yield next_triple\n",
    "\n",
    "    def __len__(self):\n",
    "        return len(self.cleaned_identities)\n",
    "\n",
    "    @staticmethod\n",
    "    def create_identity_array(identities: np.ndarray) -> np.ndarray:\n",
    "        # Create array where identity is the index to an array of all indexes of images of that identity\n",
    "        identity_array = np.empty(max(identities) + 1, dtype=object)\n",
    "        for i, id in enumerate(identities):\n",
    "            if id == 0: continue\n",
    "            if identity_array[id] is None:\n",
    "                identity_array[id] = np.array([i])\n",
    "            else:\n",
    "                identity_array[id] = np.append(identity_array[id], i)\n",
    "\n",
    "        return identity_array\n",
    "\n",
    "class TripletDataset(torch.utils.data.Dataset):\n",
    "    def __init__(self, dataset: CelebA, cleaned_identities: np.ndarray):\n",
    "        self.dataset = dataset\n",
    "        self.cleaned_identities = cleaned_identities\n",
    "\n",
    "    def __getitem__(self, triplet_idx: tuple[int, int, int]) -> tuple[\n",
    "        tuple[torch.Tensor, torch.Tensor, torch.Tensor], tuple[torch.Tensor, torch.Tensor, torch.Tensor]]:\n",
    "        anchor_idx, positive_idx, negative_idx = triplet_idx\n",
    "        a_img, _ = self.dataset[anchor_idx]\n",
    "        p_img, _ = self.dataset[positive_idx]\n",
    "        n_img, _ = self.dataset[negative_idx]\n",
    "        a_label = self.cleaned_identities[anchor_idx]\n",
    "        p_label = self.cleaned_identities[positive_idx]\n",
    "        n_label = self.cleaned_identities[negative_idx]\n",
    "        assert a_label == p_label and a_label != n_label, f\"Triplet label prerequisites violated: Anchor ({a_label}), Positive ({p_label}), Negative ({n_label})\"\n",
    "        return (a_img, p_img, n_img), (a_label, p_label, n_label)\n",
    "\n",
    "    def __len__(self) -> int:\n",
    "        return len(self.dataset)"
   ]
  },
  {
   "cell_type": "code",
   "execution_count": 97,
   "metadata": {
    "ExecuteTime": {
     "end_time": "2023-11-23T17:03:26.186920900Z",
     "start_time": "2023-11-23T17:03:07.007627700Z"
    },
    "collapsed": false
   },
   "outputs": [],
   "source": [
    "data_dir = \"data/\"\n",
    "bs = 16\n",
    "target_type = 'identity'\n",
    "train_label, valid_label, test_label = \"train\", \"valid\", \"test\"\n",
    "dataset_labels = [train_label, valid_label, test_label]\n",
    "dataset_transforms = {\n",
    "    train_label: transforms.Compose(\n",
    "        [transforms.ToTensor()]),\n",
    "    valid_label: transforms.Compose(\n",
    "        [transforms.ToTensor()]),\n",
    "    test_label: transforms.Compose(\n",
    "        [transforms.ToTensor()])\n",
    "}\n",
    "datasets: Mapping[str, CelebA] = {label: CelebA(root=data_dir, split=label, target_type=target_type, download=False,\n",
    "                                                transform=dataset_transforms[label]) for label in dataset_labels}\n",
    "dataset_sizes: Mapping[str, int] = {label: len(datasets[label]) for label in dataset_labels}\n",
    "# device = torch.device(\"cuda:0\" if torch.cuda.is_available() else \"cpu\")"
   ]
  },
  {
   "cell_type": "markdown",
   "metadata": {
    "collapsed": false
   },
   "source": [
    "### <a href=\"https://github.com/C3Imaging/Deep-Learning-Techniques/tree/clean-celebA\">Data cleaning</a>"
   ]
  },
  {
   "cell_type": "code",
   "execution_count": 98,
   "metadata": {
    "ExecuteTime": {
     "end_time": "2023-11-23T17:03:26.264944900Z",
     "start_time": "2023-11-23T17:03:26.188920400Z"
    },
    "collapsed": false
   },
   "outputs": [],
   "source": [
    "celeba_identity_clean = np.zeros(sum(dataset_sizes.values()), dtype=int)\n",
    "with open(data_dir + \"celeba/clean_CelebA_v1_img_list.txt\", \"r\") as f:\n",
    "    for line in f:\n",
    "        identity, idx = line.split(\"/\")\n",
    "        celeba_identity_clean[int(idx[:-5]) - 1] = int(identity)"
   ]
  },
  {
   "cell_type": "code",
   "execution_count": 99,
   "metadata": {
    "ExecuteTime": {
     "end_time": "2023-11-23T17:03:26.290609900Z",
     "start_time": "2023-11-23T17:03:26.265945100Z"
    },
    "collapsed": false
   },
   "outputs": [
    {
     "name": "stdout",
     "output_type": "stream",
     "text": [
      "3.147% identities of deleted, 0.496% identities of changed\n"
     ]
    }
   ],
   "source": [
    "train_size = dataset_sizes[train_label]\n",
    "different = (1 - sum(\n",
    "    datasets[train_label].identity.numpy().squeeze() == celeba_identity_clean[:train_size]) / train_size) * 100\n",
    "deleted = (sum(celeba_identity_clean == 0) / train_size) * 100\n",
    "print(f\"{round(deleted, 3)}% identities of deleted, {round(deleted - different, 3)}% identities of changed\")"
   ]
  },
  {
   "cell_type": "code",
   "execution_count": 100,
   "metadata": {
    "ExecuteTime": {
     "end_time": "2023-11-23T17:03:26.311591800Z",
     "start_time": "2023-11-23T17:03:26.284609300Z"
    },
    "collapsed": false
   },
   "outputs": [
    {
     "name": "stdout",
     "output_type": "stream",
     "text": [
      "Verified changed and deleted identities\n"
     ]
    }
   ],
   "source": [
    "with open(data_dir + \"celeba/deleted_CelebA_v1_img_list.txt\", \"r\") as f:\n",
    "    for line in f:\n",
    "        identity, filename = line.split(\"/\")\n",
    "        idx = int(filename[:-5]) - 1\n",
    "        if (idx < dataset_sizes[train_label] and datasets[train_label].identity[idx] != int(identity)) or \\\n",
    "                celeba_identity_clean[idx] != 0:\n",
    "            print(\"Error\")\n",
    "            break\n",
    "    else:\n",
    "        print(\"Verified changed and deleted identities\")"
   ]
  },
  {
   "cell_type": "markdown",
   "metadata": {
    "collapsed": false
   },
   "source": [
    "### Attribute filtering"
   ]
  },
  {
   "cell_type": "code",
   "execution_count": 101,
   "metadata": {
    "ExecuteTime": {
     "end_time": "2023-11-23T17:03:26.401465100Z",
     "start_time": "2023-11-23T17:03:26.312606400Z"
    },
    "collapsed": false
   },
   "outputs": [
    {
     "name": "stdout",
     "output_type": "stream",
     "text": [
      "Removing all with attribute 'Blurry'\n",
      " Removed from train: 7934 (8362)\n",
      " Removed from valid: 904 (940)\n",
      " Removed from test: 981 (1010)\n",
      " Total removed: 9819 (10312)\n",
      "\n",
      "Removing all with attribute 'Wearing_Hat'\n",
      " Removed from train: 7358 (8039)\n",
      " Removed from valid: 859 (940)\n",
      " Removed from test: 770 (839)\n",
      " Total removed: 8987 (9818)\n",
      "\n"
     ]
    }
   ],
   "source": [
    "def filter_attr(attr_id: int):\n",
    "    all_attr = np.concatenate((datasets[train_label].attr, datasets[valid_label].attr, datasets[test_label].attr))\n",
    "    has_attr = all_attr[:, attr_id] == 1\n",
    "    val_start = dataset_sizes[train_label]\n",
    "    test_start = val_start + dataset_sizes[valid_label]\n",
    "\n",
    "    # count how many are set to 0 from each set, that wasn't already 0 in celeba_identity_clean\n",
    "    train_removed = sum(has_attr[:val_start] & (celeba_identity_clean[:val_start] != 0))\n",
    "    valid_removed = sum(has_attr[val_start:test_start] & (celeba_identity_clean[val_start:test_start] != 0))\n",
    "    test_removed = sum(has_attr[test_start:] & (celeba_identity_clean[test_start:] != 0))\n",
    "    celeba_identity_clean[has_attr] = 0\n",
    "\n",
    "    print(f\"Removing all with attribute '{datasets[train_label].attr_names[attr_id]}'\")\n",
    "    print(f\" Removed from train: {train_removed} ({sum(has_attr[:val_start])})\")\n",
    "    print(f\" Removed from valid: {valid_removed} ({sum(has_attr[val_start:test_start])})\")\n",
    "    print(f\" Removed from test: {test_removed} ({sum(has_attr[test_start:])})\")\n",
    "    print(f\" Total removed: {train_removed + valid_removed + test_removed} ({sum(has_attr)})\")\n",
    "    print()\n",
    "\n",
    "\n",
    "filter_attr(10)\n",
    "filter_attr(35)"
   ]
  },
  {
   "cell_type": "markdown",
   "metadata": {
    "collapsed": false
   },
   "source": [
    "### Post-cleaning summary"
   ]
  },
  {
   "cell_type": "code",
   "execution_count": 102,
   "metadata": {
    "ExecuteTime": {
     "end_time": "2023-11-23T17:03:26.410521600Z",
     "start_time": "2023-11-23T17:03:26.395465100Z"
    },
    "collapsed": false
   },
   "outputs": [
    {
     "name": "stdout",
     "output_type": "stream",
     "text": [
      "Train samples left: 143164, from 162770 (-19606)\n",
      "Valid samples left: 17653, from 19867 (-2214)\n",
      "Test samples left: 17854, from 19962 (-2108)\n"
     ]
    }
   ],
   "source": [
    "train_size = dataset_sizes[train_label]\n",
    "valid_size = dataset_sizes[valid_label]\n",
    "test_size = dataset_sizes[test_label]\n",
    "\n",
    "train_left = sum(celeba_identity_clean[:train_size] != 0)\n",
    "valid_left = sum(celeba_identity_clean[train_size:train_size + valid_size] != 0)\n",
    "test_left = sum(celeba_identity_clean[train_size + valid_size:] != 0)\n",
    "print(f\"Train samples left: {train_left}, from {train_size} ({train_left - train_size})\")\n",
    "print(f\"Valid samples left: {valid_left}, from {valid_size} ({valid_left - valid_size})\")\n",
    "print(f\"Test samples left: {test_left}, from {test_size} ({test_left - test_size})\")"
   ]
  },
  {
   "cell_type": "code",
   "execution_count": 104,
   "metadata": {},
   "outputs": [],
   "source": [
    "cleaned_identities_splits = {\"train\": celeba_identity_clean[:train_size],\n",
    "                             \"valid\": celeba_identity_clean[train_size:train_size + valid_size],\n",
    "                             \"test\": celeba_identity_clean[train_size + valid_size:]}\n",
    "dataloaders: Mapping[str, data.DataLoader] = {\n",
    "    label: data.DataLoader(TripletDataset(datasets[label], cleaned_identities_splits[label]), batch_size=bs, shuffle=False, num_workers=0,\n",
    "                           sampler=TripletSampler(cleaned_identities_splits[label])) for label in dataset_labels}"
   ]
  },
  {
   "cell_type": "markdown",
   "metadata": {
    "collapsed": false
   },
   "source": [
    "# Model & Fit"
   ]
  },
  {
   "cell_type": "code",
   "execution_count": 105,
   "metadata": {
    "ExecuteTime": {
     "end_time": "2023-11-23T17:03:26.445786Z",
     "start_time": "2023-11-23T17:03:26.413580400Z"
    },
    "collapsed": false
   },
   "outputs": [],
   "source": [
    "class TripletNet(nn.Module):\n",
    "    def __init__(self):\n",
    "        super(TripletNet, self).__init__()\n",
    "        self.resnet = models.resnet18(weights=models.ResNet18_Weights.DEFAULT)\n",
    "        self.resnet.fc = nn.Identity()  # Override last layer of resnet to replace with our own fc layers\n",
    "        self.fc = nn.Sequential(\n",
    "            nn.Linear(512, 512),\n",
    "            nn.ReLU(),\n",
    "            nn.Linear(512, 128),\n",
    "            nn.ReLU(),\n",
    "            nn.Linear(128, 64),\n",
    "        )\n",
    "\n",
    "        # Initialize the fc layers with xavier\n",
    "        for layer in self.fc:\n",
    "            if type(layer) == nn.Linear:\n",
    "                nn.init.xavier_uniform_(layer.weight)\n",
    "\n",
    "    def forward(self, anchor: torch.Tensor, positive: torch.Tensor, negative: torch.Tensor):\n",
    "        anchor = self.resnet(anchor)\n",
    "        anchor = self.fc(anchor)\n",
    "        positive = self.resnet(positive)\n",
    "        positive = self.fc(positive)\n",
    "        negative = self.resnet(negative)\n",
    "        negative = self.fc(negative)\n",
    "        return anchor, positive, negative\n",
    "\n",
    "\n",
    "def train_triplet_net(triplet_net: TripletNet,\n",
    "                      criterion,\n",
    "                      optimizer,\n",
    "                      lr_scheduler,\n",
    "                      epochs,\n",
    "                      num_batches=None,\n",
    "                      num_val_batches=None,\n",
    "                      freeze=False,\n",
    "                      summary_time=1000,\n",
    "                      verbose=True):\n",
    "    train_loss_history = []\n",
    "    val_loss_history = []\n",
    "    val_acc_history = []\n",
    "\n",
    "    if num_batches is None: num_batches = len(dataloaders[train_label])\n",
    "    if summary_time is None: summary_time = num_batches\n",
    "    if num_batches < summary_time: print(f\"Warning: num_batches ({num_batches}) < summary_time ({summary_time})\")\n",
    "\n",
    "    print_stats = lambda: print(f\"Epoch: {epoch + 1}, Batch: {batch_i + 1}\",\n",
    "                                f\"Train Loss: {round(running_loss / summary_time, 3)}\",\n",
    "                                f\"Val Loss: {round(val_loss, 3)}\",\n",
    "                                f\"Val Accuracy: {round(val_acc, 3)}        \",\n",
    "                                end='\\n' if verbose else '\\r')\n",
    "\n",
    "    for param in triplet_net.resnet.parameters():\n",
    "        param.requires_grad = not freeze\n",
    "    triplet_net.fc.requires_grad = True\n",
    "\n",
    "    train_step = make_train_step(triplet_net, criterion, optimizer)\n",
    "\n",
    "    try:\n",
    "        for epoch in range(epochs):\n",
    "            running_loss = 0.0\n",
    "            for batch_i, triplet_batch in enumerate(dataloaders[train_label]):\n",
    "                running_loss += train_step(triplet_batch)\n",
    "\n",
    "                if batch_i % summary_time == summary_time - 1:\n",
    "                    train_loss_history.append(running_loss / summary_time)\n",
    "\n",
    "                    print(\"Validating...      \", end='\\r')\n",
    "                    val_loss, val_acc = val_triplet_net(triplet_net, criterion, batches=num_val_batches)\n",
    "                    print(\"\", end='\\r')\n",
    "                    val_loss_history.append(val_loss)\n",
    "                    val_acc_history.append(val_acc)\n",
    "                    print_stats()\n",
    "                    running_loss = 0.0\n",
    "\n",
    "                    if isinstance(lr_scheduler, torch.optim.lr_scheduler.ReduceLROnPlateau):\n",
    "                        lr_scheduler.step(val_loss)\n",
    "                    else:\n",
    "                        lr_scheduler.step()\n",
    "\n",
    "                if batch_i == num_batches - 1:  # Skip to next epoch\n",
    "                    break\n",
    "\n",
    "\n",
    "    except KeyboardInterrupt:\n",
    "        print(\"\\nKeyboard Interrupt. Final stats:\\n\")\n",
    "        # val_loss, val_acc = val_triplet_net(triplet_net, criterion, verbose=0)\n",
    "        print_stats()\n",
    "\n",
    "    if verbose: print(\"Finished Training\\n\")\n",
    "    else: print(\" \"*100, end='\\r')\n",
    "    return train_loss_history, val_loss_history, val_acc_history, [batches_summary] * len(train_loss_history)\n",
    "\n",
    "\n",
    "# Builds function that performs a step in the training loop for the provided model, criterion and optimizer. \n",
    "def make_train_step(model: nn.Module, triplet_loss, optimizer):\n",
    "    def train_step(triplet_batch):\n",
    "        model.train()\n",
    "        anchors, positives, negatives = triplet_batch[0]\n",
    "        anchors, positives, negatives = triplet_net(anchors.cuda(), positives.cuda(), negatives.cuda())\n",
    "        loss = triplet_loss(anchors, positives, negatives)\n",
    "        loss.backward()\n",
    "        optimizer.step()\n",
    "        optimizer.zero_grad()\n",
    "        loss_value = loss.item()\n",
    "        # print(f\"Train Loss: {round(loss_value, 3)}\", end='\\r')\n",
    "        return loss_value\n",
    "\n",
    "    # Returns the function that will be called inside the train loop\n",
    "    return train_step\n",
    "\n",
    "\n",
    "def val_triplet_net(triplet_net: TripletNet, criterion, verbose=0, batches=None) -> tuple[float, float]:\n",
    "    # bs, total_samples = 64, 19862\n",
    "    running_loss = 0.0\n",
    "    correct_predictions = 0\n",
    "    samples_done = 0\n",
    "\n",
    "    triplet_net.eval()\n",
    "    with torch.no_grad():\n",
    "        for i, triplet_batch in enumerate(dataloaders[valid_label]):\n",
    "            if i == batches: break\n",
    "            anchor, positive, negative = triplet_batch[0]\n",
    "            anchor, positive, negative = triplet_net(anchor.cuda(), positive.cuda(), negative.cuda())\n",
    "            running_loss += criterion(anchor, positive, negative).item() * len(anchor)\n",
    "            anchor, positive, negative = anchor.cpu(), positive.cpu(), negative.cpu()\n",
    "            samples_done += len(anchor)\n",
    "            for j in range(len(anchor)):\n",
    "                anchor_pos_dist = np.linalg.norm(anchor[j] - positive[j])\n",
    "                anchor_neg_dist = np.linalg.norm(anchor[j] - negative[j])\n",
    "                closest = np.argmin([anchor_neg_dist, anchor_pos_dist])\n",
    "                correct_predictions += closest\n",
    "                if verbose == 2:\n",
    "                    print(\"Anchor Positive Distance:\", anchor_pos_dist)\n",
    "                    print(\"Anchor Negative Distance:\", anchor_neg_dist)\n",
    "                    print(\"Closest:\", [\"Negative\", \"Positive\"][closest])\n",
    "\n",
    "        # samples_done = min((i+1)*bs, total_samples)\n",
    "        accuracy = correct_predictions / samples_done\n",
    "        val_loss = running_loss / samples_done\n",
    "        if verbose >= 1:\n",
    "            print(f\"Val Loss: {val_loss:.3f}, Val Accuracy: {accuracy:.3f} ({correct_predictions}/{samples_done})\")\n",
    "        if verbose == 2: print()\n",
    "\n",
    "        triplet_net.train()\n",
    "        return val_loss, accuracy"
   ]
  },
  {
   "cell_type": "markdown",
   "metadata": {},
   "source": [
    "# Fit model, show results and predict"
   ]
  },
  {
   "cell_type": "code",
   "execution_count": 106,
   "metadata": {
    "ExecuteTime": {
     "end_time": "2023-11-23T17:03:26.644879300Z",
     "start_time": "2023-11-23T17:03:26.420284800Z"
    }
   },
   "outputs": [],
   "source": [
    "triplet_net = TripletNet()\n",
    "triplet_net.cuda()\n",
    "\n",
    "batches_summary = 10\n",
    "history = [[], [], [], []]\n",
    "\n",
    "criterion = nn.TripletMarginLoss(margin=1.0, p=2)\n",
    "optimizer = optim.Adam(triplet_net.parameters(), lr=0.001)\n",
    "lr_scheduler = optim.lr_scheduler.ReduceLROnPlateau(optimizer, 'min')"
   ]
  },
  {
   "cell_type": "code",
   "execution_count": null,
   "metadata": {},
   "outputs": [],
   "source": [
    "print(\"Initial validation loss and accuracy:\")\n",
    "loss, acc = val_triplet_net(triplet_net, criterion, batches=5, verbose=1)\n",
    "add_valstats_history(history, loss, acc)\n",
    "\n",
    "new_history = train_triplet_net(triplet_net,\n",
    "                                criterion,\n",
    "                                optimizer,\n",
    "                                lr_scheduler,\n",
    "                                freeze=True,\n",
    "                                epochs=2,\n",
    "                                num_batches=10,\n",
    "                                num_val_batches=50,\n",
    "                                summary_time=batches_summary\n",
    "                                )\n",
    "\n",
    "override = True  # Flip as needed\n",
    "history = new_history if override else merge_trainstats_histories(history, new_history)\n",
    "\n",
    "print(\"Final validation loss and accuracy:\")\n",
    "loss, acc = val_triplet_net(triplet_net, criterion, batches=2, verbose=1)\n",
    "add_valstats_history(history, loss, acc)"
   ]
  },
  {
   "cell_type": "code",
   "execution_count": 52,
   "metadata": {
    "ExecuteTime": {
     "end_time": "2023-11-23T17:03:29.939590800Z",
     "start_time": "2023-11-23T17:03:26.645879300Z"
    }
   },
   "outputs": [
    {
     "data": {
      "image/png": "[encoded data removed]",
      "text/plain": [
       "<Figure size 1000x500 with 2 Axes>"
      ]
     },
     "metadata": {},
     "output_type": "display_data"
    }
   ],
   "source": [
    "visualize_results(*history)"
   ]
  },
  {
   "cell_type": "code",
   "execution_count": 106,
   "metadata": {
    "ExecuteTime": {
     "end_time": "2023-11-23T17:03:45.210930600Z",
     "start_time": "2023-11-23T17:03:29.937591800Z"
    }
   },
   "outputs": [
    {
     "name": "stdout",
     "output_type": "stream",
     "text": [
      "Epoch: 1, Batch: 10 Train Loss: 0.798 Val Loss: 0.677 Val Accuracy: 0.726\n",
      "Finished Training\n",
      "\n"
     ]
    }
   ],
   "source": [
    "show_predictions(triplet_net, dataloaders[valid_label], num_correct=2, num_incorrect=4)"
   ]
  },
  {
   "cell_type": "markdown",
   "metadata": {},
   "source": [
    "### Save and load model and result history"
   ]
  },
  {
   "cell_type": "code",
   "execution_count": null,
   "metadata": {
    "ExecuteTime": {
     "start_time": "2023-11-23T17:03:45.402318300Z"
    }
   },
   "outputs": [],
   "source": [
    "checkpoint = {\n",
    "    \"model\": triplet_net.state_dict(),\n",
    "    \"optimizer\": optimizer.state_dict(),\n",
    "    \"lr_scheduler\": lr_scheduler.state_dict(),\n",
    "    \"history\": history,\n",
    "}\n",
    "torch.save(checkpoint, \"models/triplet_net3.pt\")"
   ]
  },
  {
   "cell_type": "code",
   "execution_count": null,
   "metadata": {
    "ExecuteTime": {
     "start_time": "2023-11-23T17:03:45.403319200Z"
    }
   },
   "outputs": [],
   "source": [
    "checkpoint = torch.load(\"models/triplet_net3.pt\")\n",
    "triplet_net.load_state_dict(checkpoint[\"model\"])\n",
    "optimizer.load_state_dict(checkpoint[\"optimizer\"])\n",
    "lr_scheduler.load_state_dict(checkpoint[\"lr_scheduler\"])\n",
    "history = checkpoint[\"history\"]"
   ]
  },
  {
   "cell_type": "markdown",
   "metadata": {},
   "source": [
    "### Learning Rate Finder"
   ]
  },
  {
   "cell_type": "code",
   "execution_count": 110,
   "metadata": {},
   "outputs": [
    {
     "name": "stdout",
     "output_type": "stream",
     "text": [
      "\n",
      "Finding best learning rate for Adam\n"
     ]
    },
    {
     "name": "stdout",
     "output_type": "stream",
     "text": [
      "  Val loss for lr 5e-05: 0.842                                                                      \n",
      "  Val loss for lr 0.0001: 0.764                                                                     \n",
      "  Val loss for lr 0.0005: 0.812                                                                     \n",
      "  Val loss for lr 0.001: 0.849                                                                      \n",
      "  Val loss for lr 0.005: 0.821                                                                      \n",
      "  Val loss for lr 0.01: 0.811                                                                       \n",
      "  Val loss for lr 0.05: 0.734                                                                       \n",
      "  Val loss for lr 0.1: 0.781                                                                        \n",
      "\n",
      "Finding best learning rate for Adagrad\n",
      "  Val loss for lr 5e-05: 0.834                                                                      \n",
      "  Val loss for lr 0.0001: 0.734                                                                     \n",
      "  Val loss for lr 0.0005: 0.769                                                                     \n",
      "  Val loss for lr 0.001: 0.803                                                                      \n",
      "  Val loss for lr 0.005: 0.753                                                                      \n",
      "  Val loss for lr 0.01: 0.767                                                                       \n",
      "  Val loss for lr 0.05: 0.835                                                                       \n",
      "  Val loss for lr 0.1: 0.888                                                                        \n",
      "\n",
      "Finding best learning rate for RMSprop\n",
      "  Val loss for lr 5e-05: 0.762                                                                      \n",
      "  Val loss for lr 0.0001: 0.705                                                                     \n",
      "  Val loss for lr 0.0005: 0.728                                                                     \n",
      "  Val loss for lr 0.001: 0.71                                                                       \n",
      "  Val loss for lr 0.005: 0.763                                                                      \n",
      "  Val loss for lr 0.01: 0.767                                                                       \n",
      "  Val loss for lr 0.05: 0.723                                                                       \n",
      "  Val loss for lr 0.1: 0.778                                                                        \n"
     ]
    },
    {
     "data": {
      "image/png": "[encoded data removed]",
      "text/plain": [
       "<Figure size 640x480 with 1 Axes>"
      ]
     },
     "metadata": {},
     "output_type": "display_data"
    }
   ],
   "source": [
    "def hyperparameter_finder(num_batches, num_val_batches, lr_list, optimizer_func):\n",
    "    print(f\"\\nFinding best learning rate for {type(optimizer_func(0)).__name__}\")\n",
    "    triplet_net_model = TripletNet()\n",
    "    triplet_net_model.cuda()\n",
    "    val_loss_history = []\n",
    "    for lr in learning_rates:\n",
    "        optimizer = optimizer_func(lr) # Reset optimizer\n",
    "        lr_scheduler = optim.lr_scheduler.LinearLR(optimizer, start_factor=1, end_factor=1) # Constant lr\n",
    "        new_history = train_triplet_net(triplet_net_model,\n",
    "                                        criterion,\n",
    "                                        optimizer,\n",
    "                                        lr_scheduler,\n",
    "                                        freeze=True,\n",
    "                                        epochs=1,\n",
    "                                        num_batches=num_batches,\n",
    "                                        num_val_batches=num_val_batches,\n",
    "                                        summary_time=num_batches,\n",
    "                                        verbose=False)\n",
    "        val_loss_history.append(new_history[1][-1])\n",
    "        print(f\"  Val loss for lr {lr}: {round(new_history[1][-1], 3)}\")\n",
    "    return val_loss_history\n",
    "\n",
    "\n",
    "learning_rates = [0.00005, 0.0001, 0.0005, 0.001, 0.005, 0.01, 0.05, 0.1]\n",
    "opt_adam = lambda lr: optim.Adam(triplet_net.parameters(), lr=lr)\n",
    "opt_adagrad = lambda lr: optim.Adagrad(triplet_net.parameters(), lr=lr)\n",
    "opt_rmprop = lambda lr: optim.RMSprop(triplet_net.parameters(), lr=lr)\n",
    "results = [hyperparameter_finder(10, 20, learning_rates, opt_adam),\n",
    "           hyperparameter_finder(10, 20, learning_rates, opt_adagrad),\n",
    "           hyperparameter_finder(10, 20, learning_rates, opt_rmprop)]\n",
    "\n",
    "plt.plot(learning_rates, results[0], label=\"Adam\", marker=\"o\")\n",
    "plt.plot(learning_rates, results[1], label=\"Adagrad\", marker=\"o\")\n",
    "plt.plot(learning_rates, results[2], label=\"RMSprop\", marker=\"o\")\n",
    "plt.xscale(\"log\")\n",
    "plt.ylim(0, 2)\n",
    "plt.xlabel(\"Learning Rate\")\n",
    "plt.ylabel(\"Validation Loss\")\n",
    "plt.legend()\n",
    "plt.show()"
   ]
  },
  {
   "cell_type": "markdown",
   "metadata": {},
   "source": [
    "### Grad-CAM Test"
   ]
  },
  {
   "cell_type": "code",
   "execution_count": 47,
   "metadata": {},
   "outputs": [],
   "source": [
    "# print resnet\n",
    "# print(triplet_net.resnet)"
   ]
  },
  {
   "cell_type": "code",
   "execution_count": 46,
   "metadata": {},
   "outputs": [
    {
     "data": {
      "text/plain": [
       "Conv2d(512, 512, kernel_size=(3, 3), stride=(1, 1), padding=(1, 1), bias=False)"
      ]
     },
     "execution_count": 46,
     "metadata": {},
     "output_type": "execute_result"
    }
   ],
   "source": [
    "triplet_net.resnet.layer4[1].conv2"
   ]
  },
  {
   "cell_type": "code",
   "execution_count": 93,
   "metadata": {},
   "outputs": [
    {
     "data": {
      "text/plain": [
       "torch.Size([512, 512, 3, 3])"
      ]
     },
     "execution_count": 93,
     "metadata": {},
     "output_type": "execute_result"
    }
   ],
   "source": [
    "triplet_net.resnet.layer4[1].conv2.weight.shape"
   ]
  },
  {
   "cell_type": "code",
   "execution_count": null,
   "metadata": {},
   "outputs": [],
   "source": [
    "# defines two global scope variables to store our gradients and activations\n",
    "gradients = None\n",
    "activations = None\n",
    "\n",
    "\n",
    "def backward_hook(module, grad_input, grad_output):\n",
    "    global gradients  # refers to the variable in the global scope\n",
    "    print('Backward hook running...')\n",
    "    gradients = grad_output\n",
    "    # In this case, we expect it to be torch.Size([batch size, 1024, 8, 8])\n",
    "    print(f'Gradients size: {gradients[0].size()}')\n",
    "    # We need the 0 index because the tensor containing the gradients comes\n",
    "    # inside a one element tuple.\n",
    "\n",
    "\n",
    "def forward_hook(module, args, output):\n",
    "    global activations  # refers to the variable in the global scope\n",
    "    print('Forward hook running...')\n",
    "    activations = output\n",
    "    # In this case, we expect it to be torch.Size([batch size, 1024, 8, 8])\n",
    "    print(f'Activations size: {activations.size()}')\n",
    "\n",
    "\n",
    "# We register our hooks to the conv2 layer\n",
    "triplet_net.resnet.layer4[1].conv2.register_full_backward_hook(backward_hook)\n",
    "triplet_net.resnet.layer4[1].conv2.register_full_forward_hook(forward_hook)\n",
    "\n",
    "# We run the model on a batch of images\n",
    "triplet_net.eval()\n",
    "with torch.no_grad():\n",
    "    anchor, positive, negative = next(iter(dataloaders[train_label]))[0]\n",
    "    anchor, positive, negative = anchor.cuda(), positive.cuda(), negative.cuda()\n",
    "    anchor, positive, negative = triplet_net(anchor, positive, negative)\n"
   ]
  },
  {
   "cell_type": "code",
   "execution_count": null,
   "metadata": {},
   "outputs": [],
   "source": [
    "\n",
    "# plot activation of last conv layer of resnet\n",
    "img = datasets[train_label][0][0].unsqueeze(0)\n",
    "layer = triplet_net.resnet.layer4[1].conv2\n",
    "triplet_net.eval()\n",
    "with torch.no_grad():\n",
    "    _, _, activations = triplet_net(img.cuda(), img.cuda(), img.cuda())\n",
    "    activations = activations.cpu().numpy()\n",
    "    activations = np.mean(activations, axis=1).squeeze()\n",
    "    plt.imshow(activations)\n",
    "    plt.show()\n",
    "\n"
   ]
  },
  {
   "cell_type": "markdown",
   "metadata": {},
   "source": [
    "### Could be useful"
   ]
  },
  {
   "cell_type": "code",
   "execution_count": null,
   "metadata": {
    "ExecuteTime": {
     "start_time": "2023-11-23T17:03:45.404318900Z"
    },
    "collapsed": false
   },
   "outputs": [],
   "source": [
    "# Show the embeddings of the all images of the first 10 people\n",
    "\n",
    "# get all images of the first 10 people\n",
    "train_set = datasets[train_label]\n",
    "first_10_idx = torch.where(train_set.identity <= 10)[0]\n",
    "\n",
    "# get all embeddings of triplet_net of the first 10 people\n",
    "first_10_embeddings = []\n",
    "# first_10_imgs = []\n",
    "for batch_i in first_10_idx:\n",
    "    img, label = train_set[batch_i]\n",
    "    # first_10_imgs.append(img)\n",
    "    img = img.cuda()\n",
    "    img = img.unsqueeze(0)\n",
    "    embedding = triplet_net.resnet(img)\n",
    "    first_10_embeddings.append(embedding)\n",
    "\n",
    "first_10_labels = train_set.identity[first_10_idx].numpy()\n",
    "\n",
    "# find first image of each of the first 10 people\n",
    "first_10_imgs = []\n",
    "for batch_i in range(1, 11):\n",
    "    idx = torch.where(train_set.identity == batch_i)[0][0]\n",
    "    img, label = train_set[idx]\n",
    "    first_10_imgs.append(img)\n",
    "\n",
    "# show one image of each of the first 10 people\n",
    "fig, ax = plt.subplots(1, 10, figsize=(20, 20))\n",
    "for batch_i, img in enumerate(first_10_imgs):\n",
    "    ax[batch_i].imshow(img.permute(1, 2, 0))\n",
    "    ax[batch_i].set_title(f\"Identity: {batch_i + 1}\")\n",
    "    ax[batch_i].axis('off')\n",
    "plt.show()\n",
    "\n",
    "# plot the embeddings of the first 10 people\n",
    "first_10_embeddings = torch.stack(first_10_embeddings)\n",
    "first_10_embeddings = first_10_embeddings.squeeze(1)\n",
    "first_10_embeddings = first_10_embeddings.cpu().detach().numpy()\n",
    "plt.scatter(first_10_embeddings[:, 0], first_10_embeddings[:, 1], c=first_10_labels)\n",
    "plt.show()\n",
    "\n",
    "# print identity with lowest and largest embedding value\n",
    "max_idx = np.argmax(first_10_embeddings[:, 0])\n",
    "print(\"Identity with largest embedding value:\")\n",
    "print(first_10_labels[max_idx])\n",
    "min_idx = np.argmin(first_10_embeddings[:, 0])\n",
    "print(\"Identity with lowest embedding value:\")\n",
    "print(first_10_labels[min_idx])\n",
    "\n",
    "# Show the embeddings of the first 10 people with TSNE\n",
    "from sklearn.manifold import TSNE\n",
    "\n",
    "tsne = TSNE(n_components=2, random_state=0)\n",
    "first_10_embeddings_tsne = tsne.fit_transform(first_10_embeddings)\n",
    "# show legend with 10 identities\n",
    "plt.legend([f\"Identity: {i + 1}\" for i in range(10)])\n",
    "plt.scatter(first_10_embeddings_tsne[:, 0], first_10_embeddings_tsne[:, 1], c=first_10_labels, cmap='tab10')\n",
    "plt.show()\n",
    "\n",
    "# print identity with lowest and largest TNES value\n",
    "max_idx = np.argmax(first_10_embeddings_tsne[:, 0])\n",
    "print(\"Identity with largest TNES value:\")\n",
    "print(first_10_labels[max_idx])\n",
    "min_idx = np.argmin(first_10_embeddings_tsne[:, 0])\n",
    "print(\"Identity with lowest TNES value:\")\n",
    "print(first_10_labels[min_idx])\n"
   ]
  }
 ],
 "metadata": {
  "kernelspec": {
   "display_name": "Python 3",
   "language": "python",
   "name": "python3"
  },
  "language_info": {
   "codemirror_mode": {
    "name": "ipython",
    "version": 3
   },
   "file_extension": ".py",
   "mimetype": "text/x-python",
   "name": "python",
   "nbconvert_exporter": "python",
   "pygments_lexer": "ipython3",
   "version": "3.10.7"
  }
 },
 "nbformat": 4,
 "nbformat_minor": 2
}
